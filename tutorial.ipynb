{
 "cells": [
  {
   "cell_type": "markdown",
   "metadata": {
    "colab_type": "text",
    "id": "HvhYZrIZCEyo"
   },
   "source": [
    "<img src=\"https://storage.googleapis.com/ultralytics/logo/logoname1000.png\" width=\"150\">\n",
    "\n",
    "<table align=\"center\"><td>\n",
    "  <a target=\"_blank\"  href=\"https://github.com/ultralytics/yolov3/blob/master/tutorial.ipynb\">\n",
    "    <img src=\"https://www.tensorflow.org/images/GitHub-Mark-32px.png\" />View source on github\n",
    "  </a>\n",
    "</td><td>\n",
    "  <a target=\"_blank\"  href=\"https://colab.sandbox.google.com/github/ultralytics/yolov3/blob/master/tutorial.ipynb\">\n",
    "    <img width=32px src=\"https://www.tensorflow.org/images/colab_logo_32px.png\" />Run in Google Colab</a>\n",
    "</td></table>\n",
    "\n",
    "This notebook contains software developed by Ultralytics LLC, and **is freely available for redistribution under the GPL-3.0 license**. For more information please visit https://github.com/ultralytics/yolov3 and https://www.ultralytics.com.\n",
    "\n",
    "\n",
    "\n",
    "\n",
    "\n"
   ]
  },
  {
   "cell_type": "code",
   "execution_count": 1,
   "metadata": {
    "colab": {
     "base_uri": "https://localhost:8080/",
     "height": 34
    },
    "colab_type": "code",
    "id": "e5ylFIvlCEym",
    "outputId": "fbc88edd-7b26-4735-83bf-b404b76f9c90"
   },
   "outputs": [
    {
     "name": "stdout",
     "output_type": "stream",
     "text": [
      "PyTorch 1.5.1 _CudaDeviceProperties(name='Quadro K620', major=5, minor=0, total_memory=2048MB, multi_processor_count=3)\n"
     ]
    }
   ],
   "source": [
    "import time\n",
    "import glob\n",
    "import torch\n",
    "import os\n",
    "\n",
    "from IPython.display import Image, clear_output \n",
    "print('PyTorch %s %s' % (torch.__version__, torch.cuda.get_device_properties(0) if torch.cuda.is_available() else 'CPU'))"
   ]
  },
  {
   "cell_type": "code",
   "execution_count": 2,
   "metadata": {},
   "outputs": [],
   "source": [
    "#@title **Show image function**\n",
    "def imShow(path):\n",
    "    import cv2\n",
    "    import matplotlib.pyplot as plt\n",
    "    %matplotlib inline\n",
    "\n",
    "    image = cv2.imread(path)\n",
    "    height, width = image.shape[:2]\n",
    "    resized_image = cv2.resize(image,(3*width, 3*height), interpolation = cv2.INTER_CUBIC)\n",
    "\n",
    "    fig = plt.gcf()\n",
    "    fig.set_size_inches(8, 8)\n",
    "    plt.axis(\"off\")\n",
    "    #plt.rcParams['figure.figsize'] = [10, 5]\n",
    "    plt.imshow(cv2.cvtColor(resized_image, cv2.COLOR_BGR2RGB))\n",
    "    plt.show()\n",
    "\n",
    "outfd = \"./output/\"\n",
    "import os\n",
    "for filename in os.listdir(outfd):\n",
    "    if filename[-4:] == \".tif\":\n",
    "        img = os.path.join(outfd,filename)\n",
    "        print(img)\n",
    "        imShow(img)"
   ]
  },
  {
   "cell_type": "code",
   "execution_count": null,
   "metadata": {},
   "outputs": [],
   "source": [
    "!python detect.py \\\n",
    "--source \"C:\\\\Users\\\\lerryw\\\\Google Drive\\\\acacia_dataset\\\\data\\\\img_20cm.tif\" \\\n",
    "--save-txt \\\n",
    "--save-geom \\\n",
    "--cfg ./cfg/yolov3-spp-1cls.cfg \\\n",
    "--weights=\"C:\\\\Users\\\\lerryw\\\\Google Drive\\\\acacia_dataset\\\\weights\\\\last_1cls_900.pt\" \\\n",
    "--names=\"C:\\\\Users\\\\lerryw\\\\Google Drive\\\\acacia_dataset\\\\acacia.names\" \\\n",
    "--conf-thres=0.3 \\\n",
    "--iou-thres=0.2"
   ]
  },
  {
   "cell_type": "code",
   "execution_count": 3,
   "metadata": {},
   "outputs": [],
   "source": [
    "source = \"C:\\\\Users\\\\lerryw\\\\Google Drive\\\\satellite_dataset\\\\worldview\\\\416_validation\\\\tradewinds0017_0002.tif\" #@param {type:\"string\"}\n",
    "cfg = \"C:\\\\Users\\\\lerryw\\\\Google Drive\\\\satellite_dataset\\\\worldview\\\\cfg\\\\yolov3_spp_1cls_op.cfg\" #@param {type:\"string\"}\n",
    "weights = \"C:\\\\Users\\\\lerryw\\\\Google Drive\\\\satellite_dataset\\\\worldview\\\\weights\\\\best_oilpalm_wv_500.pt\" #@param {type:\"string\"}\n",
    "names = \"C:\\\\Users\\\\lerryw\\\\Google Drive\\\\satellite_dataset\\\\worldview\\\\op.names\" #@param {type:\"string\"}\n",
    "conf_thres =  0.2 #@param {type:\"slider\", min:0, max:1.0, step:0.1}\n",
    "iou_thres = 0.1\n",
    "\n",
    "!python detect.py \\\n",
    "--geo \\\n",
    "--save-geom \\\n",
    "--source=\"{source}\" \\\n",
    "--save-label \\\n",
    "--cfg=\"{cfg}\" \\\n",
    "--weights=\"{weights}\" \\\n",
    "--names=\"{names}\" \\\n",
    "--conf-thres=\"{conf_thres}\" \\\n",
    "--iou-thres=\"{conf_thres}\" \\\n",
    "--augment"
   ]
  },
  {
   "cell_type": "markdown",
   "metadata": {
    "colab_type": "text",
    "id": "7mGmQbAO5pQb"
   },
   "source": [
    "Clone repository and download COCO 2014 dataset (20GB):"
   ]
  },
  {
   "cell_type": "code",
   "execution_count": null,
   "metadata": {
    "colab": {
     "base_uri": "https://localhost:8080/",
     "height": 221
    },
    "colab_type": "code",
    "id": "tIFv0p1TCEyj",
    "outputId": "e9230cff-ede4-491a-a74d-063ce77f21cd"
   },
   "outputs": [],
   "source": [
    "!git clone https://github.com/ultralytics/yolov3  # clone\n",
    "!bash yolov3/data/get_coco_dataset_gdrive.sh  # copy COCO2014 dataset (19GB)\n",
    "%cd yolov3"
   ]
  },
  {
   "cell_type": "markdown",
   "metadata": {
    "colab_type": "text",
    "id": "N3qM6T0W53gh"
   },
   "source": [
    "Run `detect.py` to perform inference on images in `data/samples` folder:"
   ]
  },
  {
   "cell_type": "code",
   "execution_count": null,
   "metadata": {
    "colab": {
     "base_uri": "https://localhost:8080/",
     "height": 477
    },
    "colab_type": "code",
    "id": "zR9ZbuQCH7FX",
    "outputId": "49268b66-125d-425e-dbd0-17b108914c51"
   },
   "outputs": [],
   "source": [
    "!python detect.py\n",
    "Image(filename='output/20190531_203400.jpg', width=600)"
   ]
  },
  {
   "cell_type": "markdown",
   "metadata": {
    "colab_type": "text",
    "id": "ijTFlKcp6JVy"
   },
   "source": [
    "Run `train.py` to train YOLOv3-SPP starting from a darknet53 backbone:"
   ]
  },
  {
   "cell_type": "code",
   "execution_count": null,
   "metadata": {
    "colab": {},
    "colab_type": "code",
    "id": "Mupsoa0lzSPo"
   },
   "outputs": [],
   "source": [
    "# !python train.py --data data/coco_64img.data --img-size 320 --epochs 3 --nosave\n",
    "!python train.py --data C:\\Map\\Deep_learning\\acacia\\30cm\\acacia.data \\\n",
    "    --img-size 416 \\\n",
    "    --epochs 3 \\\n",
    "    --nosave"
   ]
  },
  {
   "cell_type": "markdown",
   "metadata": {
    "colab_type": "text",
    "id": "0eq1SMWl6Sfn"
   },
   "source": [
    "Run `test.py` to evaluate the performance of a trained darknet or PyTorch model:"
   ]
  },
  {
   "cell_type": "code",
   "execution_count": null,
   "metadata": {
    "colab": {
     "base_uri": "https://localhost:8080/",
     "height": 1000
    },
    "colab_type": "code",
    "id": "0v0RFtO-WG9o",
    "outputId": "6791f795-cb10-4da3-932f-c4ac47574601"
   },
   "outputs": [],
   "source": [
    "!python test.py --data data/coco.data --save-json --img-size 416  # 0.565 mAP"
   ]
  },
  {
   "cell_type": "markdown",
   "metadata": {
    "colab_type": "text",
    "id": "VUOiNLtMP5aG"
   },
   "source": [
    "Reproduce tutorial training runs and plot training results:"
   ]
  },
  {
   "cell_type": "code",
   "execution_count": null,
   "metadata": {
    "colab": {
     "base_uri": "https://localhost:8080/",
     "height": 417
    },
    "colab_type": "code",
    "id": "LA9qqd_NCEyB",
    "outputId": "1521c334-92ef-4f9f-bb8a-916ad5e2d9c2"
   },
   "outputs": [],
   "source": [
    "!python3 train.py --data data/coco_16img.data --batch-size 16 --accumulate 1 --nosave && mv results.txt results_coco_16img.txt  # CUSTOM TRAINING EXAMPLE\n",
    "!python3 train.py --data data/coco_64img.data --batch-size 16 --accumulate 1 --nosave && mv results.txt results_coco_64img.txt \n",
    "!python3 -c \"from utils import utils; utils.plot_results()\"  # plot training results\n",
    "Image(filename='results.png', width=800)"
   ]
  },
  {
   "cell_type": "markdown",
   "metadata": {
    "colab_type": "text",
    "id": "14mT7T7Q6erR"
   },
   "source": [
    "Extras below\n",
    "\n",
    "---\n",
    "\n",
    "\n"
   ]
  },
  {
   "cell_type": "code",
   "execution_count": null,
   "metadata": {
    "colab": {},
    "colab_type": "code",
    "id": "42_zEpW6W_N1"
   },
   "outputs": [],
   "source": [
    "!git pull"
   ]
  },
  {
   "cell_type": "code",
   "execution_count": null,
   "metadata": {
    "colab": {},
    "colab_type": "code",
    "id": "9bVTcveIOzDd"
   },
   "outputs": [],
   "source": [
    "%cd yolov3"
   ]
  },
  {
   "cell_type": "code",
   "execution_count": null,
   "metadata": {
    "colab": {},
    "colab_type": "code",
    "id": "odMr0JFnCEyb"
   },
   "outputs": [],
   "source": [
    "%ls"
   ]
  },
  {
   "cell_type": "code",
   "execution_count": null,
   "metadata": {
    "colab": {},
    "colab_type": "code",
    "id": "uB3v5hj_CEyI"
   },
   "outputs": [],
   "source": [
    "# Unit Tests\n",
    "!python3 detect.py  # detect 2 persons, 1 tie\n",
    "!python3 test.py --data data/coco_32img.data  # test mAP = 0.8\n",
    "!python3 train.py --data data/coco_32img.data --epochs 3 --nosave  # train 3 epochs"
   ]
  },
  {
   "cell_type": "code",
   "execution_count": null,
   "metadata": {
    "colab": {},
    "colab_type": "code",
    "id": "6D0si0TNCEx5"
   },
   "outputs": [],
   "source": [
    "# Evolve Hyperparameters\n",
    "!python3 train.py --data data/coco.data --img-size 320 --epochs 1 --evolve"
   ]
  }
 ],
 "metadata": {
  "accelerator": "GPU",
  "colab": {
   "collapsed_sections": [],
   "name": "ultralytics/YOLOv3",
   "provenance": [],
   "version": "0.3.2"
  },
  "kernelspec": {
   "display_name": "Python 3",
   "language": "python",
   "name": "python3"
  },
  "language_info": {
   "codemirror_mode": {
    "name": "ipython",
    "version": 3
   },
   "file_extension": ".py",
   "mimetype": "text/x-python",
   "name": "python",
   "nbconvert_exporter": "python",
   "pygments_lexer": "ipython3",
   "version": "3.6.7"
  }
 },
 "nbformat": 4,
 "nbformat_minor": 4
}
