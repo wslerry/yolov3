{
 "cells": [
  {
   "cell_type": "code",
   "execution_count": 1,
   "id": "stunning-fountain",
   "metadata": {},
   "outputs": [],
   "source": [
    "from utils.datasets import *\n",
    "from utils.utils import *\n",
    "from models import *\n",
    "from utils import torch_utils\n",
    "import numpy as np"
   ]
  },
  {
   "cell_type": "code",
   "execution_count": 2,
   "id": "twenty-hybrid",
   "metadata": {},
   "outputs": [
    {
     "name": "stdout",
     "output_type": "stream",
     "text": [
      "Using CUDA device0 _CudaDeviceProperties(name='Quadro K620', total_memory=2048MB)\n",
      "\n"
     ]
    }
   ],
   "source": [
    "device = torch_utils.select_device(device='0')"
   ]
  },
  {
   "cell_type": "code",
   "execution_count": 3,
   "id": "helpful-advocate",
   "metadata": {},
   "outputs": [],
   "source": [
    "source=r'C:\\Development\\dev_tools\\tree-detector-yolo\\data\\t1f_22.tif'"
   ]
  },
  {
   "cell_type": "code",
   "execution_count": 17,
   "id": "protecting-closing",
   "metadata": {},
   "outputs": [
    {
     "name": "stdout",
     "output_type": "stream",
     "text": [
      "Model Summary: 225 layers, 6.25733e+07 parameters, 6.25733e+07 gradients\n"
     ]
    }
   ],
   "source": [
    "cfg=r'C:\\\\Users\\\\lerryw\\\\Google Drive\\\\acacia_dataset\\\\cfg\\\\yolov3-spp-1cls.cfg'\n",
    "weights=r'C:\\\\Users\\\\lerryw\\\\Google Drive\\\\acacia_dataset\\\\weights\\\\last_1cls_1300.pt'\n",
    "\n",
    "# Initialize model\n",
    "model = Darknet(cfg, 416)\n",
    "\n",
    "if weights.endswith('.pt'):  # pytorch format\n",
    "    model.load_state_dict(torch.load(weights, map_location=device)['model'])\n",
    "else:  # darknet format\n",
    "    load_darknet_weights(model, weights)\n",
    "    \n",
    "model.to(device).eval()\n",
    "# Half precision\n",
    "half=True\n",
    "half = half and device.type != 'cpu'  # half precision only supported on CUDA\n",
    "if half:\n",
    "    model.half()"
   ]
  },
  {
   "cell_type": "code",
   "execution_count": 6,
   "id": "meaning-mountain",
   "metadata": {},
   "outputs": [],
   "source": [
    "# dataset = LoadImages(source, img_size=1024)\n",
    "dataset=ImageFolder(source, batch_size=1, img_size=416)\n",
    "dataset2=LoadImages(source,img_size=416)"
   ]
  },
  {
   "cell_type": "code",
   "execution_count": 15,
   "id": "correct-factor",
   "metadata": {},
   "outputs": [
    {
     "name": "stdout",
     "output_type": "stream",
     "text": [
      "0 (['C:\\\\Development\\\\dev_tools\\\\tree-detector-yolo\\\\data\\\\t1f_22.tif'], (3, 666, 666))\n"
     ]
    }
   ],
   "source": [
    "## Test dataset1\n",
    "for batch_i, (img_paths, img) in enumerate(dataset):\n",
    "    print(batch_i, (img_paths, img.shape))"
   ]
  },
  {
   "cell_type": "code",
   "execution_count": 24,
   "id": "dynamic-broadway",
   "metadata": {},
   "outputs": [
    {
     "name": "stdout",
     "output_type": "stream",
     "text": [
      "image 1/1 C:\\Development\\dev_tools\\tree-detector-yolo\\data\\t1f_22.tif: C:\\Development\\dev_tools\\tree-detector-yolo\\data\\t1f_22.tif (3, 416, 416) (666, 666, 3) None\n",
      "ni: 2 nj: 1\n",
      "row 0/2: 0 -413 3 0 416\n",
      "row 1/2: 0 -413 3 250 666\n"
     ]
    }
   ],
   "source": [
    "for path, img, im0s, vid_cap in dataset2:\n",
    "    print(path, img.shape, im0s.shape, vid_cap)\n",
    "    \n",
    "    preds = []\n",
    "    length = 416\n",
    "    ni = int(math.ceil(im0s.shape[1] / length))  # up-down\n",
    "    nj = int(math.ceil(im0s.shape[2] / length))  # left-right\n",
    "    print(\"ni:\",ni,\"nj:\",nj)\n",
    "    for i in range(ni):\n",
    "        print('row %g/%g: ' % (i, ni), end='')\n",
    "        for j in range(nj):\n",
    "            print('%g ' % j, end='', flush=True)\n",
    "            \n",
    "            y2 = min((i + 1) * length, im0s.shape[1])\n",
    "            y1 = y2 - length\n",
    "            x2 = min((j + 1) * length, im0s.shape[2])\n",
    "            x1 = x2 - length\n",
    "            print(x1,x2,y1,y2)\n",
    "#             with torch.no_grad():\n",
    "#                 chip = torch.from_numpy(img[:, y1:y2, x1:x2]).unsqueeze(0).to(device)\n",
    "#                 pred = model(chip)"
   ]
  },
  {
   "cell_type": "code",
   "execution_count": null,
   "id": "medium-logan",
   "metadata": {},
   "outputs": [],
   "source": []
  },
  {
   "cell_type": "code",
   "execution_count": 6,
   "id": "vulnerable-species",
   "metadata": {},
   "outputs": [],
   "source": [
    "class_name=r'C:\\\\Users\\\\lerryw\\\\Google Drive\\\\acacia_dataset\\\\acacia.names'\n",
    "names = load_classes(class_name)\n",
    "colors = [[random.randint(0, 255) for _ in range(3)] for _ in range(len(names))]"
   ]
  },
  {
   "cell_type": "code",
   "execution_count": 51,
   "id": "fluid-chess",
   "metadata": {},
   "outputs": [
    {
     "name": "stdout",
     "output_type": "stream",
     "text": [
      "\n",
      " ['C:\\\\Development\\\\dev_tools\\\\tree-detector-yolo\\\\data\\\\t1f_22.tif'] (3, 666, 666) \n",
      "row 0/2: \n",
      "0 "
     ]
    },
    {
     "ename": "TypeError",
     "evalue": "object of type 'NoneType' has no len()",
     "output_type": "error",
     "traceback": [
      "\u001b[1;31m---------------------------------------------------------------------------\u001b[0m",
      "\u001b[1;31mTypeError\u001b[0m                                 Traceback (most recent call last)",
      "\u001b[1;32m<ipython-input-51-47a3ca7b5bac>\u001b[0m in \u001b[0;36m<module>\u001b[1;34m\u001b[0m\n\u001b[0;32m     43\u001b[0m                                    multi_label=False, classes=None, agnostic=True)\n\u001b[0;32m     44\u001b[0m                 \u001b[1;32mfor\u001b[0m \u001b[0mi\u001b[0m\u001b[1;33m,\u001b[0m \u001b[0mdet\u001b[0m \u001b[1;32min\u001b[0m \u001b[0menumerate\u001b[0m\u001b[1;33m(\u001b[0m\u001b[0mpred\u001b[0m\u001b[1;33m)\u001b[0m\u001b[1;33m:\u001b[0m\u001b[1;33m\u001b[0m\u001b[1;33m\u001b[0m\u001b[0m\n\u001b[1;32m---> 45\u001b[1;33m                     \u001b[0mprint\u001b[0m\u001b[1;33m(\u001b[0m\u001b[0mlen\u001b[0m\u001b[1;33m(\u001b[0m\u001b[0mdet\u001b[0m\u001b[1;33m)\u001b[0m\u001b[1;33m)\u001b[0m\u001b[1;33m\u001b[0m\u001b[1;33m\u001b[0m\u001b[0m\n\u001b[0m",
      "\u001b[1;31mTypeError\u001b[0m: object of type 'NoneType' has no len()"
     ]
    }
   ],
   "source": [
    "t0 = time.time()\n",
    "img = torch.zeros((1, 3, 416, 416), device=device)\n",
    "_ = model(img.half() if half else img.float()) if device.type != 'cpu' else None\n",
    "total_predicted_box = list()\n",
    "class_list = list()\n",
    "min_wh, max_wh = 2, 4096 \n",
    "for batch_i, (path, img) in enumerate(dataset):\n",
    "    print('\\n', path, img.shape, end=' ')\n",
    "    img_ud = np.ascontiguousarray(np.flip(img, axis=1))\n",
    "    img_lr = np.ascontiguousarray(np.flip(img, axis=2))\n",
    "    \n",
    "    preds = []\n",
    "    length = 416\n",
    "    ni = int(math.ceil(img.shape[1] / length))  # up-down\n",
    "    nj = int(math.ceil(img.shape[2] / length))  # left-right\n",
    "    \n",
    "    # scan image for each row based on slicing size\n",
    "    for i in range(ni):  # for i in range(ni - 1):\n",
    "        print('\\nrow %g/%g: ' % (i, ni), end='')\n",
    "        for j in range(nj):  # for j in range(nj if i==0 else nj - 1):\n",
    "            print('\\n%g ' % j, end='', flush=True)\n",
    "\n",
    "            # forward scan\n",
    "            y2 = min((i + 1) * length, img.shape[1])\n",
    "            y1 = y2 - length\n",
    "            x2 = min((j + 1) * length, img.shape[2])\n",
    "            x1 = x2 - length\n",
    "#             print(y2,y1,x2,x1,'\\n')\n",
    "            with torch.no_grad():\n",
    "                # Normal orientation\n",
    "                chip = torch.from_numpy(img[:, y1:y2, x1:x2]).unsqueeze(0).to(device)\n",
    "                chip = chip.half() if half else chip.float()  # uint8 to fp16/32\n",
    "                chip /= 255.0  # 0 - 255 to 0.0 - 1.0\n",
    "                if chip.ndimension() == 3:\n",
    "                    chip = chip.unsqueeze(0)\n",
    "                    \n",
    "                pred = model(chip, augment=True)[0]\n",
    "\n",
    "                if half:\n",
    "                    pred = pred.float()\n",
    "                    \n",
    "                pred = non_max_suppression(pred, 0.7, 0.4,\n",
    "                                   multi_label=False, classes=None, agnostic=True)\n",
    "                \n",
    "                for i, det in enumerate(pred):\n",
    "                    print(len(det))"
   ]
  },
  {
   "cell_type": "code",
   "execution_count": null,
   "id": "conditional-barrier",
   "metadata": {},
   "outputs": [],
   "source": []
  }
 ],
 "metadata": {
  "kernelspec": {
   "display_name": "Python 3",
   "language": "python",
   "name": "python3"
  },
  "language_info": {
   "codemirror_mode": {
    "name": "ipython",
    "version": 3
   },
   "file_extension": ".py",
   "mimetype": "text/x-python",
   "name": "python",
   "nbconvert_exporter": "python",
   "pygments_lexer": "ipython3",
   "version": "3.7.7"
  }
 },
 "nbformat": 4,
 "nbformat_minor": 5
}
