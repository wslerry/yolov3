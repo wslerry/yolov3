{
 "cells": [
  {
   "cell_type": "code",
   "execution_count": 28,
   "id": "polished-plain",
   "metadata": {},
   "outputs": [
    {
     "name": "stdout",
     "output_type": "stream",
     "text": [
      "PyTorch 1.5.1 _CudaDeviceProperties(name='Quadro K620', major=5, minor=0, total_memory=2048MB, multi_processor_count=3)\n",
      "GPPGIS06\n"
     ]
    }
   ],
   "source": [
    "import time\n",
    "import glob\n",
    "import torch\n",
    "import os\n",
    "import gdal\n",
    "import numpy as np\n",
    "import matplotlib.pyplot as plt\n",
    "from matplotlib.colors import ListedColormap\n",
    "import geopandas as gpd\n",
    "from IPython.display import Image, clear_output \n",
    "print('PyTorch %s %s' % (torch.__version__, torch.cuda.get_device_properties(0) if torch.cuda.is_available() else 'CPU'))\n",
    "\n",
    "import platform\n",
    "if platform.node() == 'GPPGIS06':\n",
    "    print('GPPGIS06')\n",
    "    source = r\"C:\\Users\\lerryw\\Google Drive\\acacia_dataset\\data\\t2h_ortho.tif\"\n",
    "    cfg = \"C:\\\\Users\\\\lerryw\\\\Google Drive\\\\acacia_dataset\\\\cfg\\\\yolov3-spp-1cls.cfg\"\n",
    "    weights = \"C:\\\\Users\\\\lerryw\\\\Google Drive\\\\acacia_dataset\\\\weights\\\\last_1cls_1300.pt\"\n",
    "    names = \"C:\\\\Users\\\\lerryw\\\\Google Drive\\\\acacia_dataset\\\\acacia.names\"\n",
    "    \n",
    "    source_op = \"C:\\\\Development\\\\dev_tools\\\\tree-detector-yolo\\\\data\\\\dummy_data.tif\"\n",
    "    cfg_op =\"C:\\\\Users\\\\lerryw\\\\Google Drive\\\\satellite_dataset\\\\worldview\\\\cfg\\\\yolov3_spp_1cls_op.cfg\"\n",
    "    weights_op =\"C:\\\\Users\\\\lerryw\\\\Google Drive\\\\satellite_dataset\\\\worldview\\\\weights\\\\best_oilpalm_wv_300.pt\"\n",
    "    names_op =\"C:\\\\Users\\\\lerryw\\\\Google Drive\\\\satellite_dataset\\\\worldview\\\\op.names\"\n",
    "    \n",
    "elif platform.node() == 'LWS-PC':\n",
    "    print('LWS-PC')\n",
    "    source= r'E:\\GDrive\\acacia_dataset\\data\\img.tif'\n",
    "    cfg = \"E:\\\\GDrive\\\\acacia_dataset\\\\cfg\\\\yolov3-spp-1cls.cfg\"\n",
    "    weights = \"E:\\\\GDrive\\\\acacia_dataset\\\\weights\\\\last_1cls_1300.pt\"\n",
    "    names = \"E:\\\\GDrive\\\\acacia_dataset\\\\acacia.names\"\n",
    "    \n",
    "    source_op = r\"E:\\GDrive\\satellite_dataset\\worldview\\data\\Keresa_Pansharped_765_6.tif\"\n",
    "    cfg_op = r\"E:\\GDrive\\satellite_dataset\\worldview\\cfg\\yolov3_spp_1cls_op.cfg\"\n",
    "    weights_op = r\"E:\\GDrive\\satellite_dataset\\worldview\\weights\\best_oilpalm_wv_300.pt\"\n",
    "    names_op = r\"E:\\GDrive\\satellite_dataset\\worldview\\op.names\"\n"
   ]
  },
  {
   "cell_type": "code",
   "execution_count": 29,
   "id": "decimal-identity",
   "metadata": {},
   "outputs": [],
   "source": [
    "# acacia = True\n",
    "# if acacia:\n",
    "#     !python detectv3.py --source=\"{source}\" \\\n",
    "#     --output=./output \\\n",
    "#     --cfg=\"{cfg}\" \\\n",
    "#     --weights=\"{weights}\" \\\n",
    "#     --names=\"{names}\" \\\n",
    "#     --conf-thres 0.2 \\\n",
    "#     --iou-thres 0.3\n",
    "# else:\n",
    "#     !python detectv3.py --source=\"{source_op}\" \\\n",
    "#     --output=./output2 \\\n",
    "#     --cfg=\"{cfg_op}\" \\\n",
    "#     --weights=\"{weights_op}\" \\\n",
    "#     --names=\"{names_op}\" \\\n",
    "#     --conf-thres 0.2 \\\n",
    "#     --iou-thres 0.6"
   ]
  },
  {
   "cell_type": "code",
   "execution_count": 30,
   "id": "forbidden-listing",
   "metadata": {},
   "outputs": [
    {
     "name": "stdout",
     "output_type": "stream",
     "text": [
      "Namespace(agnostic_nms=True, augment=True, cfg='C:\\\\Users\\\\lerryw\\\\Google Drive\\\\acacia_dataset\\\\cfg\\\\yolov3-spp-1cls.cfg', classes=None, conf_thres=0.2, device='', fourcc='mp4v', half=False, img_size=416, iou_thres=0.4, names='C:\\\\Users\\\\lerryw\\\\Google Drive\\\\acacia_dataset\\\\acacia.names', output='./output', ratio=True, save_txt=False, source='C:\\\\Users\\\\lerryw\\\\Google Drive\\\\acacia_dataset\\\\data\\\\t2h_ortho.tif', view_img=False, weights='C:\\\\Users\\\\lerryw\\\\Google Drive\\\\acacia_dataset\\\\weights\\\\last_1cls_1300.pt')\n",
      "Using CUDA device0 _CudaDeviceProperties(name='Quadro K620', total_memory=2048MB)\n",
      "\n",
      "Model Summary: 225 layers, 6.25733e+07 parameters, 6.25733e+07 gradients\n",
      "Total object before NMS :  2592\n",
      "Total object detected :  2226\n",
      "Done. (52.279s)\n"
     ]
    }
   ],
   "source": [
    "acacia = True\n",
    "if acacia:\n",
    "    !python detectv2.py --source=\"{source}\" \\\n",
    "    --output=./output \\\n",
    "    --cfg=\"{cfg}\" \\\n",
    "    --weights=\"{weights}\" \\\n",
    "    --names=\"{names}\" \\\n",
    "    --conf-thres 0.2 \\\n",
    "    --iou-thres 0.4 \\\n",
    "    --agnostic-nms \\\n",
    "    --augment \\\n",
    "    --ratio\n",
    "else:\n",
    "    !python detectv2.py --source=\"{source_op}\" \\\n",
    "    --output=./output \\\n",
    "    --cfg=\"{cfg_op}\" \\\n",
    "    --weights=\"{weights_op}\" \\\n",
    "    --names=\"{names_op}\" \\\n",
    "    --conf-thres 0.1 \\\n",
    "    --iou-thres 0.2 \\\n",
    "    --agnostic-nms \\\n",
    "    --augment \\\n",
    "    --ratio"
   ]
  },
  {
   "cell_type": "code",
   "execution_count": 12,
   "id": "changing-hierarchy",
   "metadata": {},
   "outputs": [
    {
     "name": "stdout",
     "output_type": "stream",
     "text": [
      "Namespace(agnostic_nms=True, augment=True, cfg='C:\\\\Users\\\\lerryw\\\\Google Drive\\\\satellite_dataset\\\\worldview\\\\cfg\\\\yolov3_spp_1cls_op.cfg', classes=None, conf_thres=0.1, device='', fourcc='mp4v', half=False, img_size=416, iou_thres=0.2, names='C:\\\\Users\\\\lerryw\\\\Google Drive\\\\satellite_dataset\\\\worldview\\\\op.names', output='./output2', ratio=False, save_txt=False, source='C:\\\\Development\\\\dev_tools\\\\tree-detector-yolo\\\\data\\\\608.tif', view_img=False, weights='C:\\\\Users\\\\lerryw\\\\Google Drive\\\\satellite_dataset\\\\worldview\\\\weights\\\\best_oilpalm_wv_300.pt')\n",
      "Using CUDA device0 _CudaDeviceProperties(name='Quadro K620', total_memory=2048MB)\n",
      "\n",
      "Model Summary: 225 layers, 6.25733e+07 parameters, 6.25733e+07 gradients\n",
      "Total object before NMS :  2088\n",
      "Total object detected :  1096\n",
      "Done. (23.621s)\n"
     ]
    }
   ],
   "source": [
    "acacia = False\n",
    "if acacia:\n",
    "    !python detectv2.py --source=\"{source}\" \\\n",
    "    --output=./output2 \\\n",
    "    --cfg=\"{cfg}\" \\\n",
    "    --weights=\"{weights}\" \\\n",
    "    --names=\"{names}\" \\\n",
    "    --conf-thres 0.2 \\\n",
    "    --iou-thres 0.4 \\\n",
    "    --agnostic-nms \\\n",
    "    --augment\n",
    "else:\n",
    "    !python detectv2.py --source=\"{source_op}\" \\\n",
    "    --output=./output2 \\\n",
    "    --cfg=\"{cfg_op}\" \\\n",
    "    --weights=\"{weights_op}\" \\\n",
    "    --names=\"{names_op}\" \\\n",
    "    --conf-thres 0.1 \\\n",
    "    --iou-thres 0.2 \\\n",
    "    --agnostic-nms \\\n",
    "    --augment"
   ]
  },
  {
   "cell_type": "code",
   "execution_count": null,
   "id": "appreciated-product",
   "metadata": {},
   "outputs": [],
   "source": [
    "import rasterio as rio\n",
    "with rio.open(source) as src:\n",
    "    affine = src.transform"
   ]
  },
  {
   "cell_type": "code",
   "execution_count": null,
   "id": "legitimate-quarterly",
   "metadata": {},
   "outputs": [],
   "source": [
    "src.transform[0] * 2"
   ]
  },
  {
   "cell_type": "code",
   "execution_count": null,
   "id": "studied-fabric",
   "metadata": {},
   "outputs": [],
   "source": [
    "affine[0] * 2"
   ]
  },
  {
   "cell_type": "code",
   "execution_count": null,
   "id": "connected-bristol",
   "metadata": {},
   "outputs": [],
   "source": [
    "# we have 2 pixels\n"
   ]
  },
  {
   "cell_type": "code",
   "execution_count": null,
   "id": "initial-reach",
   "metadata": {},
   "outputs": [],
   "source": [
    "import torch\n",
    "t1 = torch.tensor([[1,2],[3,4]])\n",
    "t2 = torch.tensor([[5,6],[7,8]])\n",
    "\n",
    "torch.stack((t1,t2))"
   ]
  },
  {
   "cell_type": "code",
   "execution_count": null,
   "id": "decimal-clerk",
   "metadata": {},
   "outputs": [],
   "source": [
    "torch.cat((t1,t2), dim=0)"
   ]
  },
  {
   "cell_type": "code",
   "execution_count": null,
   "id": "vulnerable-blood",
   "metadata": {},
   "outputs": [],
   "source": [
    "import numpy as np\n",
    "x=np.random.rand(5,6)\n",
    "# print('x:\\n',x)\n",
    "x0=np.random.rand(5,6)\n",
    "# print('x0:\\n',x0)\n",
    "# x1 = np.concatenate((x,x0),1)\n",
    "x1 = np.stack((x,x0),1)\n",
    "dummy_thres = 0.3\n",
    "# print('x1:\\n',x1)\n",
    "\n",
    "# x1[(x1[:, 1:2]>dummy_thres).all(1)]\n",
    "\n",
    "for i, j in enumerate(x1):\n",
    "#     j = j[j[:, 4] > dummy_thres]\n",
    "    print(\"\\n++++\")\n",
    "    print(j)\n",
    "\n",
    "    ratio = (j[:, 4]/j[:, 5] > 0.8) & (j[:, 4]/j[:, 5] < 1.2)\n",
    "    j = j[ratio]\n",
    "# #     j=j[((j[:, :2]>0.2) & (j[:, :2]<0.8)).all(1)]\n",
    "# #     j=j[((ratio>0.2) & (ratio<0.8)).all(1)]\n",
    "    \n",
    "    if not j.shape[0]:\n",
    "        continue\n",
    "    print(\"****\\n\")\n",
    "    print(j)\n",
    "    print(\"****\")\n",
    "    print(\"****\")\n",
    "# ratiomask = x1[:, 3:4] / x1[:, 4:5]\n",
    "# print(ratiomask)"
   ]
  },
  {
   "cell_type": "code",
   "execution_count": null,
   "id": "allied-jewel",
   "metadata": {},
   "outputs": [],
   "source": [
    "w=4.373\n",
    "h=2.812\n",
    "ratio = w/h\n",
    "if ratio > 1.2 :\n",
    "    print('NO!')"
   ]
  },
  {
   "cell_type": "code",
   "execution_count": null,
   "id": "prospective-gambling",
   "metadata": {},
   "outputs": [],
   "source": [
    "w=2.874     #4.373\n",
    "h=2.874  #3.686\n",
    "ratio = w/h #width to height ratio\n",
    "if 0.8 < ratio < 1.2:\n",
    "    print(ratio)\n",
    "    print('YES!')\n",
    "else:\n",
    "    print(ratio)\n",
    "    print('NO!')"
   ]
  },
  {
   "cell_type": "code",
   "execution_count": null,
   "id": "promotional-horizontal",
   "metadata": {},
   "outputs": [],
   "source": [
    "ax = 12\n",
    "ax*0.8"
   ]
  },
  {
   "cell_type": "code",
   "execution_count": null,
   "id": "loved-alloy",
   "metadata": {},
   "outputs": [],
   "source": []
  }
 ],
 "metadata": {
  "kernelspec": {
   "display_name": "Python 3",
   "language": "python",
   "name": "python3"
  },
  "language_info": {
   "codemirror_mode": {
    "name": "ipython",
    "version": 3
   },
   "file_extension": ".py",
   "mimetype": "text/x-python",
   "name": "python",
   "nbconvert_exporter": "python",
   "pygments_lexer": "ipython3",
   "version": "3.7.7"
  }
 },
 "nbformat": 4,
 "nbformat_minor": 5
}
