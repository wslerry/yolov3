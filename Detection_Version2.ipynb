{
 "cells": [
  {
   "cell_type": "code",
   "execution_count": 44,
   "id": "opening-faith",
   "metadata": {},
   "outputs": [
    {
     "name": "stdout",
     "output_type": "stream",
     "text": [
      "PyTorch 1.7.0 CPU\n",
      "LWS-PC\n"
     ]
    }
   ],
   "source": [
    "import time\n",
    "import glob\n",
    "import torch\n",
    "import os\n",
    "import gdal\n",
    "import numpy as np\n",
    "import matplotlib.pyplot as plt\n",
    "from matplotlib.colors import ListedColormap\n",
    "import geopandas as gpd\n",
    "from IPython.display import Image, clear_output \n",
    "print('PyTorch %s %s' % (torch.__version__, torch.cuda.get_device_properties(0) if torch.cuda.is_available() else 'CPU'))\n",
    "\n",
    "import platform\n",
    "if platform.node() == 'GPPGIS06':\n",
    "    print('GPPGIS06')\n",
    "    source = \"C:\\\\Development\\\\dev_tools\\\\tree-detector-yolo\\\\data\\\\t1f_22.tif\"\n",
    "    cfg = \"C:\\\\Users\\\\lerryw\\\\Google Drive\\\\acacia_dataset\\\\cfg\\\\yolov3-spp-1cls.cfg\"\n",
    "    weights = \"C:\\\\Users\\\\lerryw\\\\Google Drive\\\\acacia_dataset\\\\weights\\\\last_1cls_1300.pt\"\n",
    "    names = \"C:\\\\Users\\\\lerryw\\\\Google Drive\\\\acacia_dataset\\\\acacia.names\"\n",
    "    \n",
    "    source_op = \"C:\\\\Development\\\\dev_tools\\\\tree-detector-yolo\\\\data\\\\digitalglobe_oilpalm.tif\"\n",
    "    cfg_op =\"C:\\\\Users\\\\lerryw\\\\Google Drive\\\\satellite_dataset\\\\worldview\\\\cfg\\\\yolov3_spp_1cls_op.cfg\"\n",
    "    weights_op =\"C:\\\\Users\\\\lerryw\\\\Google Drive\\\\satellite_dataset\\\\worldview\\\\weights\\\\best_oilpalm_wv_300.pt\"\n",
    "    names_op =\"C:\\\\Users\\\\lerryw\\\\Google Drive\\\\satellite_dataset\\\\worldview\\\\op.names\"\n",
    "    \n",
    "elif platform.node() == 'LWS-PC':\n",
    "    print('LWS-PC')\n",
    "    source= r'E:\\GDrive\\acacia_dataset\\data\\img.tif'\n",
    "    cfg = \"E:\\\\GDrive\\\\acacia_dataset\\\\cfg\\\\yolov3-spp-1cls.cfg\"\n",
    "    weights = \"E:\\\\GDrive\\\\acacia_dataset\\\\weights\\\\last_1cls_1300.pt\"\n",
    "    names = \"E:\\\\GDrive\\\\acacia_dataset\\\\acacia.names\"\n",
    "    \n",
    "    source_op = r\"E:\\GDrive\\satellite_dataset\\worldview\\data\\tradewinds_pansharped_765.tif\"\n",
    "    cfg_op = r\"E:\\GDrive\\satellite_dataset\\worldview\\cfg\\yolov3_spp_1cls_op.cfg\"\n",
    "    weights_op = r\"E:\\GDrive\\satellite_dataset\\worldview\\weights\\best_oilpalm_wv_300.pt\"\n",
    "    names_op = r\"E:\\GDrive\\satellite_dataset\\worldview\\op.names\"\n"
   ]
  },
  {
   "cell_type": "code",
   "execution_count": 37,
   "id": "ecological-florist",
   "metadata": {},
   "outputs": [],
   "source": [
    "# acacia = True\n",
    "# if acacia:\n",
    "#     !python detectv3.py --source=\"{source}\" \\\n",
    "#     --output=./output \\\n",
    "#     --cfg=\"{cfg}\" \\\n",
    "#     --weights=\"{weights}\" \\\n",
    "#     --names=\"{names}\" \\\n",
    "#     --conf-thres 0.2 \\\n",
    "#     --iou-thres 0.3\n",
    "# else:\n",
    "#     !python detectv3.py --source=\"{source_op}\" \\\n",
    "#     --output=./output2 \\\n",
    "#     --cfg=\"{cfg_op}\" \\\n",
    "#     --weights=\"{weights_op}\" \\\n",
    "#     --names=\"{names_op}\" \\\n",
    "#     --conf-thres 0.2 \\\n",
    "#     --iou-thres 0.6"
   ]
  },
  {
   "cell_type": "code",
   "execution_count": 45,
   "id": "interesting-patent",
   "metadata": {},
   "outputs": [
    {
     "name": "stdout",
     "output_type": "stream",
     "text": [
      "Namespace(agnostic_nms=True, augment=True, cfg='E:\\\\GDrive\\\\satellite_dataset\\\\worldview\\\\cfg\\\\yolov3_spp_1cls_op.cfg', classes=None, conf_thres=0.1, device='', fourcc='mp4v', half=False, img_size=416, iou_thres=0.2, names='E:\\\\GDrive\\\\satellite_dataset\\\\worldview\\\\op.names', output='./output', save_txt=False, source='E:\\\\GDrive\\\\satellite_dataset\\\\worldview\\\\data\\\\tradewinds_pansharped_765.tif', view_img=False, weights='E:\\\\GDrive\\\\satellite_dataset\\\\worldview\\\\weights\\\\best_oilpalm_wv_300.pt')\n",
      "Using CPU\n",
      "\n",
      "Model Summary: 225 layers, 6.25733e+07 parameters, 6.25733e+07 gradients\n",
      "Total object before NMS :  211849\n",
      "Total object detected :  198136\n",
      "Done. (3268.027s)\n"
     ]
    }
   ],
   "source": [
    "acacia = False\n",
    "if acacia:\n",
    "    !python detectv2.py --source=\"{source}\" \\\n",
    "    --output=./output \\\n",
    "    --cfg=\"{cfg}\" \\\n",
    "    --weights=\"{weights}\" \\\n",
    "    --names=\"{names}\" \\\n",
    "    --conf-thres 0.2 \\\n",
    "    --iou-thres 0.4 \\\n",
    "    --agnostic-nms\n",
    "else:\n",
    "    !python detectv2.py --source=\"{source_op}\" \\\n",
    "    --output=./output \\\n",
    "    --cfg=\"{cfg_op}\" \\\n",
    "    --weights=\"{weights_op}\" \\\n",
    "    --names=\"{names_op}\" \\\n",
    "    --conf-thres 0.1 \\\n",
    "    --iou-thres 0.2 \\\n",
    "    --agnostic-nms \\\n",
    "    --augment"
   ]
  },
  {
   "cell_type": "code",
   "execution_count": null,
   "id": "dried-gamma",
   "metadata": {},
   "outputs": [],
   "source": [
    "import rasterio as rio\n",
    "with rio.open(source) as src:\n",
    "    affine = src.transform"
   ]
  },
  {
   "cell_type": "code",
   "execution_count": null,
   "id": "decimal-direction",
   "metadata": {},
   "outputs": [],
   "source": [
    "src.transform[0] * 2"
   ]
  },
  {
   "cell_type": "code",
   "execution_count": null,
   "id": "similar-compiler",
   "metadata": {},
   "outputs": [],
   "source": [
    "affine[0] * 2"
   ]
  },
  {
   "cell_type": "code",
   "execution_count": null,
   "id": "grateful-birth",
   "metadata": {},
   "outputs": [],
   "source": [
    "# we have 2 pixels\n"
   ]
  },
  {
   "cell_type": "code",
   "execution_count": null,
   "id": "alleged-exemption",
   "metadata": {},
   "outputs": [],
   "source": [
    "import torch\n",
    "t1 = torch.tensor([[1,2],[3,4]])\n",
    "t2 = torch.tensor([[5,6],[7,8]])\n",
    "\n",
    "torch.stack((t1,t2))"
   ]
  },
  {
   "cell_type": "code",
   "execution_count": null,
   "id": "chronic-tourist",
   "metadata": {},
   "outputs": [],
   "source": [
    "torch.cat((t1,t2), dim=0)"
   ]
  },
  {
   "cell_type": "code",
   "execution_count": null,
   "id": "exotic-fruit",
   "metadata": {},
   "outputs": [],
   "source": [
    "import numpy as np\n",
    "x = np.array([[1,2,3,4,5,6],[7,8,9,10,11,12]])\n",
    "print(x[:, :1]*3)"
   ]
  },
  {
   "cell_type": "code",
   "execution_count": null,
   "id": "modified-thursday",
   "metadata": {},
   "outputs": [],
   "source": [
    "w=4.373\n",
    "h=2.812\n",
    "ratio = w/h\n",
    "if ratio > 1.2 :\n",
    "    print('NO!')"
   ]
  },
  {
   "cell_type": "code",
   "execution_count": null,
   "id": "published-tucson",
   "metadata": {},
   "outputs": [],
   "source": [
    "w=2.874     #4.373\n",
    "h=2.874  #3.686\n",
    "ratio = w/h #width to height ratio\n",
    "if 0.8 < ratio < 1.2:\n",
    "    print(ratio)\n",
    "    print('YES!')\n",
    "else:\n",
    "    print(ratio)\n",
    "    print('NO!')"
   ]
  },
  {
   "cell_type": "code",
   "execution_count": 26,
   "id": "sitting-crystal",
   "metadata": {},
   "outputs": [
    {
     "data": {
      "text/plain": [
       "9.600000000000001"
      ]
     },
     "execution_count": 26,
     "metadata": {},
     "output_type": "execute_result"
    }
   ],
   "source": [
    "ax = 12\n",
    "ax*0.8"
   ]
  },
  {
   "cell_type": "code",
   "execution_count": null,
   "id": "headed-diesel",
   "metadata": {},
   "outputs": [],
   "source": []
  }
 ],
 "metadata": {
  "kernelspec": {
   "display_name": "Python 3",
   "language": "python",
   "name": "python3"
  },
  "language_info": {
   "codemirror_mode": {
    "name": "ipython",
    "version": 3
   },
   "file_extension": ".py",
   "mimetype": "text/x-python",
   "name": "python",
   "nbconvert_exporter": "python",
   "pygments_lexer": "ipython3",
   "version": "3.6.7"
  }
 },
 "nbformat": 4,
 "nbformat_minor": 5
}
