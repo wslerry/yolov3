{
 "cells": [
  {
   "cell_type": "code",
   "execution_count": 1,
   "id": "introductory-dispatch",
   "metadata": {},
   "outputs": [
    {
     "name": "stdout",
     "output_type": "stream",
     "text": [
      "PyTorch 1.5.1 _CudaDeviceProperties(name='Quadro K620', major=5, minor=0, total_memory=2048MB, multi_processor_count=3)\n"
     ]
    }
   ],
   "source": [
    "import time\n",
    "import glob\n",
    "import torch\n",
    "import os\n",
    "import gdal\n",
    "import numpy as np\n",
    "import matplotlib.pyplot as plt\n",
    "from matplotlib.colors import ListedColormap\n",
    "import geopandas as gpd\n",
    "from IPython.display import Image, clear_output \n",
    "print('PyTorch %s %s' % (torch.__version__, torch.cuda.get_device_properties(0) if torch.cuda.is_available() else 'CPU'))\n",
    "\n",
    "import platform\n",
    "if platform.node() == 'GPPGIS06':\n",
    "    # # t1f_22, img, t1f_30cm_127, T1F_ORTHO_withGCPs_30cm\n",
    "    source = \"C:\\\\Development\\\\dev_tools\\\\tree-detector-yolo\\\\data\\\\t1f_22.tif\"\n",
    "    cfg = \"C:\\\\Users\\\\lerryw\\\\Google Drive\\\\acacia_dataset\\\\cfg\\\\yolov3-spp-1cls.cfg\"\n",
    "    weights = \"C:\\\\Users\\\\lerryw\\\\Google Drive\\\\acacia_dataset\\\\weights\\\\last_1cls_1300.pt\"\n",
    "    names = \"C:\\\\Users\\\\lerryw\\\\Google Drive\\\\acacia_dataset\\\\acacia.names\"\n",
    "    \n",
    "    source_op = \"C:\\\\Development\\\\dev_tools\\\\tree-detector-yolo\\\\data\\\\digitalglobe_oilpalm.tif\"\n",
    "    cfg_op =\"C:\\\\Users\\\\lerryw\\\\Google Drive\\\\satellite_dataset\\\\worldview\\\\cfg\\\\yolov3_spp_1cls_op.cfg\"\n",
    "    weights_op =\"C:\\\\Users\\\\lerryw\\\\Google Drive\\\\satellite_dataset\\\\worldview\\\\weights\\\\best_oilpalm_wv_300.pt\"\n",
    "    names_op =\"C:\\\\Users\\\\lerryw\\\\Google Drive\\\\satellite_dataset\\\\worldview\\\\op.names\"\n",
    "    \n",
    "elif platform.node() == 'LWS-PC':\n",
    "    cfg = \"E:\\\\GDrive\\\\acacia_dataset\\\\cfg\\\\yolov3-spp-1cls.cfg\"\n",
    "    weights = \"E:\\\\GDrive\\\\acacia_dataset\\\\weights\\\\last_1cls_1300.pt\"\n",
    "    names = \"E:\\\\GDrive\\\\acacia_dataset\\\\acacia.names\"\n"
   ]
  },
  {
   "cell_type": "code",
   "execution_count": 51,
   "id": "assumed-hunter",
   "metadata": {},
   "outputs": [
    {
     "name": "stdout",
     "output_type": "stream",
     "text": [
      "Namespace(agnostic_nms=False, augment=False, cfg='C:\\\\Users\\\\lerryw\\\\Google Drive\\\\acacia_dataset\\\\cfg\\\\yolov3-spp-1cls.cfg', classes=None, conf_thres=0.2, device='', fourcc='mp4v', half=False, img_size=416, iou_thres=0.3, names='C:\\\\Users\\\\lerryw\\\\Google Drive\\\\acacia_dataset\\\\acacia.names', output='./output', save_txt=False, source='C:\\\\Development\\\\dev_tools\\\\tree-detector-yolo\\\\data\\\\t1f_22.tif', view_img=False, weights='C:\\\\Users\\\\lerryw\\\\Google Drive\\\\acacia_dataset\\\\weights\\\\last_1cls_1300.pt')"
     ]
    },
    {
     "name": "stderr",
     "output_type": "stream",
     "text": [
      "Traceback (most recent call last):\n",
      "  File \"detectv3.py\", line 230, in <module>\n",
      "    detect()\n",
      "  File \"detectv3.py\", line 165, in detect\n",
      "    y[:, 2] = affine_coord * (det[:, 2])\n",
      "TypeError: unsupported operand type(s) for *: 'Affine' and 'Tensor'\n"
     ]
    },
    {
     "name": "stdout",
     "output_type": "stream",
     "text": [
      "\n",
      "Using CUDA device0 _CudaDeviceProperties(name='Quadro K620', total_memory=2048MB)\n",
      "\n",
      "Model Summary: 225 layers, 6.25733e+07 parameters, 6.25733e+07 gradients\n"
     ]
    }
   ],
   "source": [
    "acacia = True\n",
    "if acacia:\n",
    "    !python detectv3.py --source=\"{source}\" \\\n",
    "    --output=./output \\\n",
    "    --cfg=\"{cfg}\" \\\n",
    "    --weights=\"{weights}\" \\\n",
    "    --names=\"{names}\" \\\n",
    "    --conf-thres 0.2 \\\n",
    "    --iou-thres 0.3\n",
    "else:\n",
    "    !python detectv3.py --source=\"{source_op}\" \\\n",
    "    --output=./output2 \\\n",
    "    --cfg=\"{cfg_op}\" \\\n",
    "    --weights=\"{weights_op}\" \\\n",
    "    --names=\"{names_op}\" \\\n",
    "    --conf-thres 0.2 \\\n",
    "    --iou-thres 0.2"
   ]
  },
  {
   "cell_type": "code",
   "execution_count": 28,
   "id": "further-agent",
   "metadata": {},
   "outputs": [
    {
     "data": {
      "text/plain": [
       "tensor([[[1, 2],\n",
       "         [3, 4]],\n",
       "\n",
       "        [[5, 6],\n",
       "         [7, 8]]])"
      ]
     },
     "execution_count": 28,
     "metadata": {},
     "output_type": "execute_result"
    }
   ],
   "source": [
    "import torch\n",
    "t1 = torch.tensor([[1,2],[3,4]])\n",
    "t2 = torch.tensor([[5,6],[7,8]])\n",
    "\n",
    "torch.stack((t1,t2))"
   ]
  },
  {
   "cell_type": "code",
   "execution_count": 29,
   "id": "established-hollow",
   "metadata": {},
   "outputs": [
    {
     "data": {
      "text/plain": [
       "tensor([[1, 2],\n",
       "        [3, 4],\n",
       "        [5, 6],\n",
       "        [7, 8]])"
      ]
     },
     "execution_count": 29,
     "metadata": {},
     "output_type": "execute_result"
    }
   ],
   "source": [
    "torch.cat((t1,t2), dim=0)"
   ]
  },
  {
   "cell_type": "code",
   "execution_count": null,
   "id": "august-acting",
   "metadata": {},
   "outputs": [],
   "source": []
  }
 ],
 "metadata": {
  "kernelspec": {
   "display_name": "Python 3",
   "language": "python",
   "name": "python3"
  },
  "language_info": {
   "codemirror_mode": {
    "name": "ipython",
    "version": 3
   },
   "file_extension": ".py",
   "mimetype": "text/x-python",
   "name": "python",
   "nbconvert_exporter": "python",
   "pygments_lexer": "ipython3",
   "version": "3.7.7"
  }
 },
 "nbformat": 4,
 "nbformat_minor": 5
}
